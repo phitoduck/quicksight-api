{
 "cells": [
  {
   "cell_type": "code",
   "execution_count": 2,
   "id": "afc8ac67-d643-4343-8d0c-1b5596947490",
   "metadata": {},
   "outputs": [
    {
     "data": {
      "application/vnd.jupyter.widget-view+json": {
       "model_id": "",
       "version_major": 2,
       "version_minor": 0
      },
      "text/plain": [
       "FloatProgress(value=0.0, bar_style='info', description='Progress:', layout=Layout(height='25px', width='50%'),…"
      ]
     },
     "metadata": {},
     "output_type": "display_data"
    }
   ],
   "source": [
    "EXTRA_JARS = [\n",
    "    \"force-partner-api-40.0.0.jar\",\n",
    "    \"force-wsc-40.0.0.jar\",\n",
    "    \"salesforce-wave-api-1.0.9.jar\",\n",
    "    \"spark-salesforce_2.11-1.1.1.jar\",\n",
    "]\n",
    "\n",
    "# $ wget https://repo1.maven.org/maven2/com/fasterxml/jackson/dataformat/jackson-dataformat-xml/2.10.3/jackson-dataformat-xml-2.10.3.jar\n",
    "# $ wget https://repo1.maven.org/maven2/com/fasterxml/jackson/core/jackson-core/2.10.3/jackson-core-2.10.3.jar"
   ]
  },
  {
   "cell_type": "code",
   "execution_count": 1,
   "id": "2ed0e730-0676-4b88-b196-e4ace1976721",
   "metadata": {},
   "outputs": [
    {
     "data": {
      "text/html": [
       "Current session configs: <tt>{'conf': {'spark.jars.packages': 'com.force.api:force-partner-api:40.0.0,com.force.api:force-wsc:40.0.0,com.springml:salesforce-wave-api:1.0.9,com.springml:spark-salesforce_2.11:1.1.1,com.fasterxml.jackson.core:jackson-core:2.10.3,com.fasterxml.jackson.dataformat:jackson-dataformat-xml:2.10.3'}, 'kind': 'pyspark'}</tt><br>"
      ],
      "text/plain": [
       "<IPython.core.display.HTML object>"
      ]
     },
     "metadata": {},
     "output_type": "display_data"
    },
    {
     "data": {
      "text/html": [
       "No active sessions."
      ],
      "text/plain": [
       "<IPython.core.display.HTML object>"
      ]
     },
     "metadata": {},
     "output_type": "display_data"
    }
   ],
   "source": [
    "%%configure -f\n",
    "{\n",
    "    \"conf\": {\n",
    "        \"spark.jars.packages\": \"com.force.api:force-partner-api:40.0.0,com.force.api:force-wsc:40.0.0,com.springml:salesforce-wave-api:1.0.9,com.springml:spark-salesforce_2.11:1.1.1,com.fasterxml.jackson.core:jackson-core:2.10.3,com.fasterxml.jackson.dataformat:jackson-dataformat-xml:2.10.3\"\n",
    "    }\n",
    "}"
   ]
  },
  {
   "cell_type": "code",
   "execution_count": 2,
   "id": "46bc842d-bf39-490f-8ded-5b76c615401d",
   "metadata": {},
   "outputs": [
    {
     "name": "stdout",
     "output_type": "stream",
     "text": [
      "Starting Spark application\n"
     ]
    },
    {
     "data": {
      "text/html": [
       "<table>\n",
       "<tr><th>ID</th><th>YARN Application ID</th><th>Kind</th><th>State</th><th>Spark UI</th><th>Driver log</th><th>User</th><th>Current session?</th></tr><tr><td>0</td><td>None</td><td>pyspark</td><td>idle</td><td></td><td></td><td>None</td><td>✔</td></tr></table>"
      ],
      "text/plain": [
       "<IPython.core.display.HTML object>"
      ]
     },
     "metadata": {},
     "output_type": "display_data"
    },
    {
     "data": {
      "application/vnd.jupyter.widget-view+json": {
       "model_id": "",
       "version_major": 2,
       "version_minor": 0
      },
      "text/plain": [
       "FloatProgress(value=0.0, bar_style='info', description='Progress:', layout=Layout(height='25px', width='50%'),…"
      ]
     },
     "metadata": {},
     "output_type": "display_data"
    },
    {
     "name": "stdout",
     "output_type": "stream",
     "text": [
      "SparkSession available as 'spark'.\n"
     ]
    },
    {
     "data": {
      "application/vnd.jupyter.widget-view+json": {
       "model_id": "",
       "version_major": 2,
       "version_minor": 0
      },
      "text/plain": [
       "FloatProgress(value=0.0, bar_style='info', description='Progress:', layout=Layout(height='25px', width='50%'),…"
      ]
     },
     "metadata": {},
     "output_type": "display_data"
    },
    {
     "name": "stderr",
     "output_type": "stream",
     "text": [
      "An error was encountered:\n",
      "INVALID_LOGIN: Invalid username, password, security token; or user locked out.\n",
      "Traceback (most recent call last):\n",
      "  File \"<stdin>\", line 52, in create_select_star_soql_stmt\n",
      "  File \"<stdin>\", line 31, in fetch_all_salesforce_object_fields\n",
      "  File \"/extra_python_packages/simple_salesforce/api.py\", line 139, in __init__\n",
      "    self._refresh_session()\n",
      "  File \"/extra_python_packages/simple_salesforce/api.py\", line 252, in _refresh_session\n",
      "    self.session_id, self.sf_instance = self._salesforce_login_partial()\n",
      "  File \"/extra_python_packages/simple_salesforce/login.py\", line 201, in SalesforceLogin\n",
      "    login_soap_request_headers, proxies, session)\n",
      "  File \"/extra_python_packages/simple_salesforce/login.py\", line 214, in soap_login\n",
      "    raise SalesforceAuthenticationFailed(except_code, except_msg)\n",
      "simple_salesforce.exceptions.SalesforceAuthenticationFailed: INVALID_LOGIN: Invalid username, password, security token; or user locked out.\n",
      "\n"
     ]
    }
   ],
   "source": [
    "from awsglue.transforms import *\n",
    "from awsglue.utils import getResolvedOptions\n",
    "from pyspark.context import SparkContext\n",
    "from awsglue.context import GlueContext\n",
    "from awsglue.job import Job\n",
    "\n",
    "from typing import List, OrderedDict\n",
    "from simple_salesforce import Salesforce, SFType\n",
    "\n",
    "#####################\n",
    "# --- Constants --- #\n",
    "#####################\n",
    "\n",
    "username = \"some email\"\n",
    "password = \"some password\"\n",
    "\n",
    "# get this here: https://docs.idalko.com/exalate/display/ED/Salesforce%3A+How+to+generate+a+security+token\n",
    "security_token = \"some token\"\n",
    "\n",
    "password_with_token = password + security_token\n",
    "\n",
    "\n",
    "############################\n",
    "# --- Helper Functions --- #\n",
    "############################\n",
    "\n",
    "def fetch_all_salesforce_object_fields(username: str, password: str, security_token: str, obj_name: str):\n",
    "    sf = Salesforce(\n",
    "        username=username,\n",
    "        password=password,\n",
    "        security_token=security_token\n",
    "    )\n",
    "\n",
    "    sf_obj: SFType = getattr(sf, obj_name)\n",
    "    obj_describe_result: OrderedDict = sf_obj.describe()\n",
    "    field_odicts: List[OrderedDict] = obj_describe_result[\"fields\"]\n",
    "    fields: List[str] = list(field[\"name\"] for field in field_odicts)\n",
    "\n",
    "    # print(sf_fields_dict[\"fields\"])\n",
    "\n",
    "    return fields\n",
    "\n",
    "def make_select_star_soql_stmt(obj_name: str, fields: List[str]) -> str:\n",
    "    field_selector_stmt = \", \".join(fields)\n",
    "    return f\"SELECT {field_selector_stmt} FROM {obj_name}\"\n",
    "\n",
    "def create_select_star_soql_stmt(username: str, password: str, security_token: str, obj_name: str) -> str:\n",
    "    fields: List[str] = fetch_all_salesforce_object_fields(\n",
    "        username=username,\n",
    "        password=password,\n",
    "        security_token=security_token,\n",
    "        obj_name=obj_name,\n",
    "    )\n",
    "    stmt: str = make_select_star_soql_stmt(\n",
    "        fields=fields,\n",
    "        obj_name=obj_name,\n",
    "    )\n",
    "    return stmt\n",
    "\n",
    "\n",
    "#####################\n",
    "# --- Spark Job --- #\n",
    "#####################\n",
    "\n",
    "OBJECT_NAME = \"opportunity\"\n",
    "\n",
    "sc = SparkContext.getOrCreate()\n",
    "glueContext = GlueContext(sc)\n",
    "spark = glueContext.spark_session\n",
    "job = Job(glueContext)\n",
    "\n",
    "\n",
    "select_star_soql_stmt = create_select_star_soql_stmt(\n",
    "    username=username,\n",
    "    password=password,\n",
    "    security_token=security_token,\n",
    "    obj_name=OBJECT_NAME,\n",
    ")\n",
    "\n",
    "select_star_soql_stmt = \"\"\"\n",
    "SELECT Id, IsDeleted, AccountId, IsPrivate, Name, Description, StageName, Amount, Probability, ExpectedRevenue, TotalOpportunityQuantity, CloseDate, Type, NextStep, LeadSource, IsClosed, IsWon, ForecastCategory, ForecastCategoryName, CampaignId, HasOpportunityLineItem, Pricebook2Id, OwnerId, CreatedDate, CreatedById, LastModifiedDate, LastModifiedById, SystemModstamp, LastActivityDate, LastStageChangeDate, Fiscal, ContactId, LastViewedDate, LastReferencedDate, HasOpenActivity, HasOverdueTask, LastAmountChangedHistoryId, LastCloseDateChangedHistoryId, DeliveryInstallationStatus__c, TrackingNumber__c, OrderNumber__c, CurrentGenerators__c, MainCompetitors__c FROM opportunity\n",
    "\"\"\"\n",
    "\n",
    "df = (\n",
    "    spark\n",
    "        .read\n",
    "        .format(\"com.springml.spark.salesforce\")\n",
    "        .option(\"username\", username)\n",
    "        .option(\"password\", password_with_token)\n",
    "        .option(\"soql\", select_star_soql_stmt)\n",
    "        .option(\"bulk\", True)\n",
    "        # Opportunity.LastStageChangeDate is only availaable in API v52\n",
    "        .option(\"version\", 52)\n",
    "        .option(\"sfObject\", OBJECT_NAME)\n",
    "        .load()\n",
    ")\n",
    "\n",
    "print(df.show())"
   ]
  },
  {
   "cell_type": "code",
   "execution_count": null,
   "id": "cc1e51e5-804b-4dc7-a81e-d0c2c9996d33",
   "metadata": {},
   "outputs": [],
   "source": []
  },
  {
   "cell_type": "code",
   "execution_count": null,
   "id": "be4728d7-9e7e-4ead-9814-7561d5e900e4",
   "metadata": {},
   "outputs": [],
   "source": []
  }
 ],
 "metadata": {
  "kernelspec": {
   "display_name": "Glue Spark - Local (PySpark)",
   "language": "python",
   "name": "pysparkkernel"
  },
  "language_info": {
   "codemirror_mode": {
    "name": "python",
    "version": 3
   },
   "file_extension": ".py",
   "mimetype": "text/x-python",
   "name": "pyspark",
   "pygments_lexer": "python3"
  }
 },
 "nbformat": 4,
 "nbformat_minor": 5
}
