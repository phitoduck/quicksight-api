{
 "cells": [
  {
   "cell_type": "code",
   "execution_count": 2,
   "id": "afc8ac67-d643-4343-8d0c-1b5596947490",
   "metadata": {},
   "outputs": [
    {
     "data": {
      "application/vnd.jupyter.widget-view+json": {
       "model_id": "",
       "version_major": 2,
       "version_minor": 0
      },
      "text/plain": [
       "FloatProgress(value=0.0, bar_style='info', description='Progress:', layout=Layout(height='25px', width='50%'),…"
      ]
     },
     "metadata": {},
     "output_type": "display_data"
    }
   ],
   "source": [
    "EXTRA_JARS = [\n",
    "    \"force-partner-api-40.0.0.jar\",\n",
    "    \"force-wsc-40.0.0.jar\",\n",
    "    \"salesforce-wave-api-1.0.9.jar\",\n",
    "    \"spark-salesforce_2.11-1.1.1.jar\",\n",
    "]\n",
    "\n",
    "# $ wget https://repo1.maven.org/maven2/com/fasterxml/jackson/dataformat/jackson-dataformat-xml/2.10.3/jackson-dataformat-xml-2.10.3.jar\n",
    "# $ wget https://repo1.maven.org/maven2/com/fasterxml/jackson/core/jackson-core/2.10.3/jackson-core-2.10.3.jar"
   ]
  },
  {
   "cell_type": "code",
   "execution_count": 11,
   "id": "2ed0e730-0676-4b88-b196-e4ace1976721",
   "metadata": {},
   "outputs": [
    {
     "name": "stdout",
     "output_type": "stream",
     "text": [
      "Starting Spark application\n"
     ]
    },
    {
     "data": {
      "text/html": [
       "<table>\n",
       "<tr><th>ID</th><th>YARN Application ID</th><th>Kind</th><th>State</th><th>Spark UI</th><th>Driver log</th><th>User</th><th>Current session?</th></tr><tr><td>1</td><td>None</td><td>pyspark</td><td>idle</td><td></td><td></td><td>None</td><td>✔</td></tr></table>"
      ],
      "text/plain": [
       "<IPython.core.display.HTML object>"
      ]
     },
     "metadata": {},
     "output_type": "display_data"
    },
    {
     "data": {
      "application/vnd.jupyter.widget-view+json": {
       "model_id": "",
       "version_major": 2,
       "version_minor": 0
      },
      "text/plain": [
       "FloatProgress(value=0.0, bar_style='info', description='Progress:', layout=Layout(height='25px', width='50%'),…"
      ]
     },
     "metadata": {},
     "output_type": "display_data"
    },
    {
     "name": "stdout",
     "output_type": "stream",
     "text": [
      "SparkSession available as 'spark'.\n"
     ]
    },
    {
     "data": {
      "text/html": [
       "Current session configs: <tt>{'conf': {'spark.jars.packages': 'com.force.api:force-partner-api:40.0.0,com.force.api:force-wsc:40.0.0,com.springml:salesforce-wave-api:1.0.9,com.springml:spark-salesforce_2.11:1.1.1,com.fasterxml.jackson.core:jackson-core:2.10.3,com.fasterxml.jackson.dataformat:jackson-dataformat-xml:2.10.3'}, 'kind': 'pyspark'}</tt><br>"
      ],
      "text/plain": [
       "<IPython.core.display.HTML object>"
      ]
     },
     "metadata": {},
     "output_type": "display_data"
    },
    {
     "data": {
      "text/html": [
       "<table>\n",
       "<tr><th>ID</th><th>YARN Application ID</th><th>Kind</th><th>State</th><th>Spark UI</th><th>Driver log</th><th>User</th><th>Current session?</th></tr><tr><td>1</td><td>None</td><td>pyspark</td><td>idle</td><td></td><td></td><td>None</td><td>✔</td></tr></table>"
      ],
      "text/plain": [
       "<IPython.core.display.HTML object>"
      ]
     },
     "metadata": {},
     "output_type": "display_data"
    }
   ],
   "source": [
    "%%configure -f\n",
    "{\n",
    "    \"conf\": {\n",
    "        \"spark.jars.packages\": \"com.force.api:force-partner-api:40.0.0,com.force.api:force-wsc:40.0.0,com.springml:salesforce-wave-api:1.0.9,com.springml:spark-salesforce_2.11:1.1.1,com.fasterxml.jackson.core:jackson-core:2.10.3,com.fasterxml.jackson.dataformat:jackson-dataformat-xml:2.10.3\"\n",
    "    }\n",
    "}"
   ]
  },
  {
   "cell_type": "code",
   "execution_count": 38,
   "id": "46bc842d-bf39-490f-8ded-5b76c615401d",
   "metadata": {},
   "outputs": [
    {
     "data": {
      "application/vnd.jupyter.widget-view+json": {
       "model_id": "",
       "version_major": 2,
       "version_minor": 0
      },
      "text/plain": [
       "FloatProgress(value=0.0, bar_style='info', description='Progress:', layout=Layout(height='25px', width='50%'),…"
      ]
     },
     "metadata": {},
     "output_type": "display_data"
    },
    {
     "name": "stdout",
     "output_type": "stream",
     "text": [
      "+------------------+---------+------------------+---------+--------------------+-----------+--------------------+--------+-----------+---------------+------------------------+----------+--------------------+--------+-----------------+--------+-----+----------------+--------------------+----------+----------------------+------------+------------------+--------------------+------------------+--------------------+------------------+--------------------+----------------+-------------------+------+---------+--------------+------------------+---------------+--------------+--------------------------+-----------------------------+-----------------------------+-----------------+--------------+--------------------+--------------------+\n",
      "|                Id|IsDeleted|         AccountId|IsPrivate|                Name|Description|           StageName|  Amount|Probability|ExpectedRevenue|TotalOpportunityQuantity| CloseDate|                Type|NextStep|       LeadSource|IsClosed|IsWon|ForecastCategory|ForecastCategoryName|CampaignId|HasOpportunityLineItem|Pricebook2Id|           OwnerId|         CreatedDate|       CreatedById|    LastModifiedDate|  LastModifiedById|      SystemModstamp|LastActivityDate|LastStageChangeDate|Fiscal|ContactId|LastViewedDate|LastReferencedDate|HasOpenActivity|HasOverdueTask|LastAmountChangedHistoryId|LastCloseDateChangedHistoryId|DeliveryInstallationStatus__c|TrackingNumber__c|OrderNumber__c|CurrentGenerators__c|  MainCompetitors__c|\n",
      "+------------------+---------+------------------+---------+--------------------+-----------+--------------------+--------+-----------+---------------+------------------------+----------+--------------------+--------+-----------------+--------+-----+----------------+--------------------+----------+----------------------+------------+------------------+--------------------+------------------+--------------------+------------------+--------------------+----------------+-------------------+------+---------+--------------+------------------+---------------+--------------+--------------------------+-----------------------------+-----------------------------+-----------------+--------------+--------------------+--------------------+\n",
      "|0068V00000sKGNvQAO|    false|0018V00002O31yYQAR|    false|Dickenson Mobile ...|       null|       Qualification| 15000.0|       10.0|         1500.0|                    null|2022-06-06|        New Customer|    null|   Purchased List|   false|false|        Pipeline|            Pipeline|      null|                 false|        null|0058V00000BtUBwQAN|2022-07-29T00:13:...|0058V00000BtUBwQAN|2022-07-29T00:13:...|0058V00000BtUBwQAN|2022-07-29T00:13:...|            null|               null|2015 1|     null|          null|              null|          false|         false|                      null|                         null|                         null|             null|          null|                null|               Honda|\n",
      "|0068V00000sKGNwQAO|    false|0018V00002O31yaQAB|    false|United Oil Office...|       null|  Negotiation/Review|125000.0|       90.0|       112500.0|                    null|2022-05-25|Existing Customer...|    null|             null|   false|false|        Pipeline|            Pipeline|      null|                 false|        null|0058V00000BtUBwQAN|2022-07-29T00:13:...|0058V00000BtUBwQAN|2022-07-29T00:13:...|0058V00000BtUBwQAN|2022-07-29T00:13:...|            null|               null|2015 1|     null|          null|              null|          false|         false|                      null|                         null|                         null|             null|          null|              Yamaha|              Yamaha|\n",
      "|0068V00000sKGNxQAO|    false|0018V00002O31ybQAB|    false|Express Logistics...|       null|          Closed Won|220000.0|      100.0|       220000.0|                    null|2022-04-20|        New Customer|    null|       Trade Show|    true| true|          Closed|              Closed|      null|                 false|        null|0058V00000BtUBwQAN|2022-07-29T00:13:...|0058V00000BtUBwQAN|2022-07-29T00:13:...|0058V00000BtUBwQAN|2022-07-29T00:13:...|            null|               null|2015 1|     null|          null|              null|          false|         false|                      null|                         null|                         null|     830150301420|        653276|           Hawkpower|             Fujitsu|\n",
      "|0068V00000sKGNyQAO|    false|0018V00002O31yfQAB|    false|GenePoint Standby...|       null|          Closed Won| 85000.0|      100.0|        85000.0|                    null|2022-05-28|        New Customer|    null|          Partner|    true| true|          Closed|              Closed|      null|                 false|        null|0058V00000BtUBwQAN|2022-07-29T00:13:...|0058V00000BtUBwQAN|2022-07-29T00:13:...|0058V00000BtUBwQAN|2022-07-29T00:13:...|            null|               null|2015 1|     null|          null|              null|          false|         false|                      null|                         null|                    Completed|     830150301420|        908676|               Honda|               Honda|\n",
      "|0068V00000sKGNzQAO|    false|0018V00002O31yZQAR|    false|Grand Hotels Kitc...|       null| Id. Decision Makers| 15000.0|       60.0|         9000.0|                    null|2022-04-15|Existing Customer...|    null|             null|   false|false|        Pipeline|            Pipeline|      null|                 false|        null|0058V00000BtUBwQAN|2022-07-29T00:13:...|0058V00000BtUBwQAN|2022-07-29T00:13:...|0058V00000BtUBwQAN|2022-07-29T00:13:...|            null|               null|2015 1|     null|          null|              null|          false|         false|                      null|                         null|                 Yet to begin|             null|          null|          John Deere|  Fujitsu, Hawkpower|\n",
      "|0068V00000sKGO0QAO|    false|0018V00002O31yaQAB|    false|United Oil Refine...|       null|Proposal/Price Quote|270000.0|       75.0|       202500.0|                    null|2022-07-09|Existing Customer...|    null|             null|   false|false|        Pipeline|            Pipeline|      null|                 false|        null|0058V00000BtUBwQAN|2022-07-29T00:13:...|0058V00000BtUBwQAN|2022-07-29T00:13:...|0058V00000BtUBwQAN|2022-07-29T00:13:...|            null|               null|2015 2|     null|          null|              null|          false|         false|                      null|                         null|                 Yet to begin|             null|          null|         Caterpillar|          John Deere|\n",
      "|0068V00000sKGO1QAO|    false|0018V00002O31yaQAB|    false|      United Oil SLA|       null|          Closed Won|120000.0|      100.0|       120000.0|                    null|2022-07-16|Existing Customer...|    null|          Partner|    true| true|          Closed|              Closed|      null|                 false|        null|0058V00000BtUBwQAN|2022-07-29T00:13:...|0058V00000BtUBwQAN|2022-07-29T00:13:...|0058V00000BtUBwQAN|2022-07-29T00:13:...|            null|               null|2015 2|     null|          null|              null|          false|         false|                      null|                         null|                  In progress|             null|        926363|                null|                null|\n",
      "|0068V00000sKGO2QAO|    false|0018V00002O31yZQAR|    false|Grand Hotels Gues...|       null|   Value Proposition|250000.0|       50.0|       125000.0|                    null|2022-07-24|Existing Customer...|    null|Employee Referral|   false|false|        Pipeline|            Pipeline|      null|                 false|        null|0058V00000BtUBwQAN|2022-07-29T00:13:...|0058V00000BtUBwQAN|2022-07-29T00:13:...|0058V00000BtUBwQAN|2022-07-29T00:13:...|            null|               null|2015 2|     null|          null|              null|          false|         false|                      null|                         null|                 Yet to begin|             null|          null|               Honda|               Honda|\n",
      "|0068V00000sKGO3QAO|    false|0018V00002O31yVQAR|    false|Edge Emergency Ge...|       null|          Closed Won| 75000.0|      100.0|        75000.0|                    null|2022-07-24|        New Customer|    null|    Word of mouth|    true| true|          Closed|              Closed|      null|                 false|        null|0058V00000BtUBwQAN|2022-07-29T00:13:...|0058V00000BtUBwQAN|2022-07-29T00:13:...|0058V00000BtUBwQAN|2022-07-29T00:13:...|            null|               null|2015 2|     null|          null|              null|          false|         false|                      null|                         null|                    Completed|     830150301420|        731645|          John Deere|          John Deere|\n",
      "|0068V00000sKGO4QAO|    false|0018V00002O31ycQAB|    false|University of AZ ...|       null|          Closed Won| 50000.0|      100.0|        50000.0|                    null|2022-04-24|        New Customer|    null| Public Relations|    true| true|          Closed|              Closed|      null|                 false|        null|0058V00000BtUBwQAN|2022-07-29T00:13:...|0058V00000BtUBwQAN|2022-07-29T00:13:...|0058V00000BtUBwQAN|2022-07-29T00:13:...|            null|               null|2015 1|     null|          null|              null|          false|         false|                      null|                         null|                    Completed|     830150301360|        768934|          Mitsubishi|   Honda, Mitsubishi|\n",
      "|0068V00000sKGO5QAO|    false|0018V00002O31yXQAR|    false|Pyramid Emergency...|       null|         Prospecting|100000.0|       10.0|        10000.0|                    null|2022-06-02|                null|    null|    Phone Inquiry|   false|false|        Pipeline|            Pipeline|      null|                 false|        null|0058V00000BtUBwQAN|2022-07-29T00:13:...|0058V00000BtUBwQAN|2022-07-29T00:13:...|0058V00000BtUBwQAN|2022-07-29T00:13:...|            null|               null|2015 1|     null|          null|              null|          false|         false|                      null|                         null|                         null|             null|          null|                null|                null|\n",
      "|0068V00000sKGO6QAO|    false|0018V00002O31ybQAB|    false|Express Logistics...|       null|   Value Proposition| 80000.0|       50.0|        40000.0|                    null|2022-04-18|Existing Customer...|    null|External Referral|   false|false|        Pipeline|            Pipeline|      null|                 false|        null|0058V00000BtUBwQAN|2022-07-29T00:13:...|0058V00000BtUBwQAN|2022-07-29T00:13:...|0058V00000BtUBwQAN|2022-07-29T00:13:...|            null|               null|2015 1|     null|          null|              null|          false|         false|                      null|                         null|                 Yet to begin|             null|          null|             Fujitsu|               Honda|\n",
      "|0068V00000sKGO7QAO|    false|0018V00002O31yfQAB|    false|GenePoint Lab Gen...|       null| Id. Decision Makers| 60000.0|       60.0|        36000.0|                    null|2022-07-18|                null|    null|             null|   false|false|        Pipeline|            Pipeline|      null|                 false|        null|0058V00000BtUBwQAN|2022-07-29T00:13:...|0058V00000BtUBwQAN|2022-07-29T00:13:...|0058V00000BtUBwQAN|2022-07-29T00:13:...|            null|               null|2015 2|     null|          null|              null|          false|         false|                      null|                         null|                 Yet to begin|             null|          null|  Hawkpower, Fujitsu|           Hawkpower|\n",
      "|0068V00000sKGO8QAO|    false|0018V00002O31yfQAB|    false|       GenePoint SLA|       null|          Closed Won| 30000.0|      100.0|        30000.0|                    null|2022-07-21|Existing Customer...|    null|          Partner|    true| true|          Closed|              Closed|      null|                 false|        null|0058V00000BtUBwQAN|2022-07-29T00:13:...|0058V00000BtUBwQAN|2022-07-29T00:13:...|0058V00000BtUBwQAN|2022-07-29T00:13:...|            null|               null|2015 2|     null|          null|              null|          false|         false|                      null|                         null|                  In progress|             null|        546512|                null|                null|\n",
      "|0068V00000sKGO9QAO|    false|0018V00002O31yaQAB|    false|United Oil Instal...|       null|  Negotiation/Review|270000.0|       90.0|       243000.0|                    null|2022-05-21|Existing Customer...|    null|             null|   false|false|        Pipeline|            Pipeline|      null|                 false|        null|0058V00000BtUBwQAN|2022-07-29T00:13:...|0058V00000BtUBwQAN|2022-07-29T00:13:...|0058V00000BtUBwQAN|2022-07-29T00:13:...|            null|               null|2015 1|     null|          null|              null|          false|         false|                      null|                         null|                 Yet to begin|             null|          null|                null|                null|\n",
      "|0068V00000sKGOAQA4|    false|0018V00002O31yVQAR|    false|   Edge Installation|       null|          Closed Won| 50000.0|      100.0|        50000.0|                    null|2022-05-15|Existing Customer...|    null|    Word of mouth|    true| true|          Closed|              Closed|      null|                 false|        null|0058V00000BtUBwQAN|2022-07-29T00:13:...|0058V00000BtUBwQAN|2022-07-29T00:13:...|0058V00000BtUBwQAN|2022-07-29T00:13:...|            null|               null|2015 1|     null|          null|              null|          false|         false|                      null|                         null|                    Completed|             null|        835178|                null|                null|\n",
      "|0068V00000sKGOBQA4|    false|0018V00002O31yVQAR|    false|            Edge SLA|       null|          Closed Won| 60000.0|      100.0|        60000.0|                    null|2022-04-10|Existing Customer...|    null|    Word of mouth|    true| true|          Closed|              Closed|      null|                 false|        null|0058V00000BtUBwQAN|2022-07-29T00:13:...|0058V00000BtUBwQAN|2022-07-29T00:13:...|0058V00000BtUBwQAN|2022-07-29T00:13:...|            null|               null|2015 1|     null|          null|              null|          false|         false|                      null|                         null|                         null|             null|        847564|                null|                null|\n",
      "|0068V00000sKGOCQA4|    false|0018V00002O31yaQAB|    false|United Oil Instal...|       null|          Closed Won|270000.0|      100.0|       270000.0|                    null|2022-05-20|Existing Customer...|    null|          Partner|    true| true|          Closed|              Closed|      null|                 false|        null|0058V00000BtUBwQAN|2022-07-29T00:13:...|0058V00000BtUBwQAN|2022-07-29T00:13:...|0058V00000BtUBwQAN|2022-07-29T00:13:...|            null|               null|2015 1|     null|          null|              null|          false|         false|                      null|                         null|                  In progress|             null|        427609|                null|                null|\n",
      "|0068V00000sKGODQA4|    false|0018V00002O31yZQAR|    false|Grand Hotels Gene...|       null|          Closed Won|350000.0|      100.0|       350000.0|                    null|2022-07-07|Existing Customer...|    null|External Referral|    true| true|          Closed|              Closed|      null|                 false|        null|0058V00000BtUBwQAN|2022-07-29T00:13:...|0058V00000BtUBwQAN|2022-07-29T00:13:...|0058V00000BtUBwQAN|2022-07-29T00:13:...|            null|               null|2015 2|     null|          null|              null|          false|         false|                      null|                         null|                    Completed|             null|        763546|                null|                null|\n",
      "|0068V00000sKGOEQA4|    false|0018V00002O31yaQAB|    false|United Oil Refine...|       null|          Closed Won|915000.0|      100.0|       915000.0|                    null|2022-07-02|        New Customer|    null|          Partner|    true| true|          Closed|              Closed|      null|                 false|        null|0058V00000BtUBwQAN|2022-07-29T00:13:...|0058V00000BtUBwQAN|2022-07-29T00:13:...|0058V00000BtUBwQAN|2022-07-29T00:13:...|            null|               null|2015 2|     null|          null|              null|          false|         false|                      null|                         null|                    Completed|     830150301360|        744343|          John Deere|John Deere, Mitsu...|\n",
      "+------------------+---------+------------------+---------+--------------------+-----------+--------------------+--------+-----------+---------------+------------------------+----------+--------------------+--------+-----------------+--------+-----+----------------+--------------------+----------+----------------------+------------+------------------+--------------------+------------------+--------------------+------------------+--------------------+----------------+-------------------+------+---------+--------------+------------------+---------------+--------------+--------------------------+-----------------------------+-----------------------------+-----------------+--------------+--------------------+--------------------+\n",
      "only showing top 20 rows\n",
      "\n",
      "None"
     ]
    }
   ],
   "source": [
    "from awsglue.transforms import *\n",
    "from awsglue.utils import getResolvedOptions\n",
    "from pyspark.context import SparkContext\n",
    "from awsglue.context import GlueContext\n",
    "from awsglue.job import Job\n",
    "\n",
    "from typing import List, OrderedDict\n",
    "from simple_salesforce import Salesforce, SFType\n",
    "\n",
    "#####################\n",
    "# --- Constants --- #\n",
    "#####################\n",
    "\n",
    "username = \"some email\"\n",
    "password = \"some password\"\n",
    "\n",
    "# get this here: https://docs.idalko.com/exalate/display/ED/Salesforce%3A+How+to+generate+a+security+token\n",
    "security_token = \"some token\"\n",
    "\n",
    "password_with_token = password + security_token\n",
    "\n",
    "\n",
    "############################\n",
    "# --- Helper Functions --- #\n",
    "############################\n",
    "\n",
    "def fetch_all_salesforce_object_fields(username: str, password: str, security_token: str, obj_name: str):\n",
    "    sf = Salesforce(\n",
    "        username=username,\n",
    "        password=password,\n",
    "        security_token=security_token\n",
    "    )\n",
    "\n",
    "    sf_obj: SFType = getattr(sf, obj_name)\n",
    "    obj_describe_result: OrderedDict = sf_obj.describe()\n",
    "    field_odicts: List[OrderedDict] = obj_describe_result[\"fields\"]\n",
    "    fields: List[str] = list(field[\"name\"] for field in field_odicts)\n",
    "\n",
    "    # print(sf_fields_dict[\"fields\"])\n",
    "\n",
    "    return fields\n",
    "\n",
    "def make_select_star_soql_stmt(obj_name: str, fields: List[str]) -> str:\n",
    "    field_selector_stmt = \", \".join(fields)\n",
    "    return f\"SELECT {field_selector_stmt} FROM {obj_name}\"\n",
    "\n",
    "def create_select_star_soql_stmt(username: str, password: str, security_token: str, obj_name: str) -> str:\n",
    "    fields: List[str] = fetch_all_salesforce_object_fields(\n",
    "        username=username,\n",
    "        password=password,\n",
    "        security_token=security_token,\n",
    "        obj_name=obj_name,\n",
    "    )\n",
    "    stmt: str = make_select_star_soql_stmt(\n",
    "        fields=fields,\n",
    "        obj_name=obj_name,\n",
    "    )\n",
    "    return stmt\n",
    "\n",
    "\n",
    "#####################\n",
    "# --- Spark Job --- #\n",
    "#####################\n",
    "\n",
    "OBJECT_NAME = \"opportunity\"\n",
    "\n",
    "sc = SparkContext.getOrCreate()\n",
    "glueContext = GlueContext(sc)\n",
    "spark = glueContext.spark_session\n",
    "job = Job(glueContext)\n",
    "\n",
    "\n",
    "select_star_soql_stmt = create_select_star_soql_stmt(\n",
    "    username=username,\n",
    "    password=password,\n",
    "    security_token=security_token,\n",
    "    obj_name=OBJECT_NAME,\n",
    ")\n",
    "\n",
    "select_star_soql_stmt = \"\"\"\n",
    "SELECT Id, IsDeleted, AccountId, IsPrivate, Name, Description, StageName, Amount, Probability, ExpectedRevenue, TotalOpportunityQuantity, CloseDate, Type, NextStep, LeadSource, IsClosed, IsWon, ForecastCategory, ForecastCategoryName, CampaignId, HasOpportunityLineItem, Pricebook2Id, OwnerId, CreatedDate, CreatedById, LastModifiedDate, LastModifiedById, SystemModstamp, LastActivityDate, LastStageChangeDate, Fiscal, ContactId, LastViewedDate, LastReferencedDate, HasOpenActivity, HasOverdueTask, LastAmountChangedHistoryId, LastCloseDateChangedHistoryId, DeliveryInstallationStatus__c, TrackingNumber__c, OrderNumber__c, CurrentGenerators__c, MainCompetitors__c FROM opportunity\n",
    "\"\"\"\n",
    "\n",
    "df = (\n",
    "    spark\n",
    "        .read\n",
    "        .format(\"com.springml.spark.salesforce\")\n",
    "        .option(\"username\", username)\n",
    "        .option(\"password\", password_with_token)\n",
    "        .option(\"soql\", select_star_soql_stmt)\n",
    "        .option(\"bulk\", True)\n",
    "        # Opportunity.LastStageChangeDate is only availaable in API v52\n",
    "        .option(\"version\", 52)\n",
    "        .option(\"sfObject\", OBJECT_NAME)\n",
    "        .load()\n",
    ")\n",
    "\n",
    "print(df.show())"
   ]
  },
  {
   "cell_type": "code",
   "execution_count": null,
   "id": "cc1e51e5-804b-4dc7-a81e-d0c2c9996d33",
   "metadata": {},
   "outputs": [],
   "source": []
  },
  {
   "cell_type": "code",
   "execution_count": null,
   "id": "be4728d7-9e7e-4ead-9814-7561d5e900e4",
   "metadata": {},
   "outputs": [],
   "source": []
  }
 ],
 "metadata": {
  "kernelspec": {
   "display_name": "Glue Spark - Local (PySpark)",
   "language": "python",
   "name": "pysparkkernel"
  },
  "language_info": {
   "codemirror_mode": {
    "name": "python",
    "version": 3
   },
   "file_extension": ".py",
   "mimetype": "text/x-python",
   "name": "pyspark",
   "pygments_lexer": "python3"
  }
 },
 "nbformat": 4,
 "nbformat_minor": 5
}
